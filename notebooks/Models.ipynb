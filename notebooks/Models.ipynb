{
 "cells": [
  {
   "cell_type": "code",
   "execution_count": 1,
   "metadata": {
    "collapsed": true
   },
   "outputs": [],
   "source": [
    "import numpy as np\n",
    "import pandas as pd\n",
    "import os\n",
    "from sklearn import preprocessing\n",
    "from sklearn.preprocessing import LabelEncoder\n",
    "from sklearn.model_selection import train_test_split\n",
    "\n",
    "from sklearn.ensemble import RandomForestClassifier\n",
    "from sklearn.ensemble import GradientBoostingClassifier\n",
    "from sklearn.linear_model import LogisticRegression\n",
    "from sklearn.tree import DecisionTreeClassifier\n",
    "from sklearn.svm import SVC\n",
    "\n",
    "from sklearn.metrics import confusion_matrix\n",
    "from sklearn.metrics import roc_curve\n",
    "\n",
    "import matplotlib.pyplot as plt\n",
    "\n",
    "%matplotlib inline\n",
    "plt.style.use('datascope')"
   ]
  },
  {
   "cell_type": "code",
   "execution_count": 2,
   "metadata": {},
   "outputs": [],
   "source": [
    "# load the data\n",
    "data = pd.read_csv('SATO_2015.csv')\n",
    "data.head()\n",
    "\n",
    "# numbers look good.\n",
    "def convert_class_to_numeric(col):\n",
    "    if col == 'Churned':\n",
    "        returned_value = 1\n",
    "    else:\n",
    "        returned_value = 0\n",
    "    return returned_value\n",
    "df = data.copy()\n",
    "df['Class'] = data['Class'].apply(convert_class_to_numeric)"
   ]
  },
  {
   "cell_type": "code",
   "execution_count": 3,
   "metadata": {
    "collapsed": true
   },
   "outputs": [],
   "source": [
    "# Do a train, test split. Let's keep 30% for testing\n",
    "df_train, df_test = train_test_split(df, test_size=0.20)"
   ]
  },
  {
   "cell_type": "code",
   "execution_count": 4,
   "metadata": {},
   "outputs": [
    {
     "name": "stdout",
     "output_type": "stream",
     "text": [
      "lenght of training dataframe 1600\n",
      "length of testing dataframe 400\n"
     ]
    }
   ],
   "source": [
    "print('lenght of training dataframe', len(df_train))\n",
    "print('length of testing dataframe', len(df_test))"
   ]
  },
  {
   "cell_type": "code",
   "execution_count": 5,
   "metadata": {},
   "outputs": [
    {
     "data": {
      "text/plain": [
       "array(['network_age', 'Aggregate_Total_Rev', 'Aggregate_SMS_Rev',\n",
       "       'Aggregate_Data_Rev', 'Aggregate_Data_Vol', 'Aggregate_Calls',\n",
       "       'Aggregate_ONNET_REV', 'Aggregate_OFFNET_REV',\n",
       "       'Aggregate_complaint_count', 'aug_user_type', 'sep_user_type',\n",
       "       'aug_fav_a', 'sep_fav_a', 'Class'], dtype=object)"
      ]
     },
     "execution_count": 5,
     "metadata": {},
     "output_type": "execute_result"
    }
   ],
   "source": [
    "df.columns.values"
   ]
  },
  {
   "cell_type": "code",
   "execution_count": 6,
   "metadata": {},
   "outputs": [
    {
     "data": {
      "text/plain": [
       "network_age                    int64\n",
       "Aggregate_Total_Rev          float64\n",
       "Aggregate_SMS_Rev            float64\n",
       "Aggregate_Data_Rev           float64\n",
       "Aggregate_Data_Vol           float64\n",
       "Aggregate_Calls                int64\n",
       "Aggregate_ONNET_REV            int64\n",
       "Aggregate_OFFNET_REV           int64\n",
       "Aggregate_complaint_count      int64\n",
       "aug_user_type                 object\n",
       "sep_user_type                 object\n",
       "aug_fav_a                     object\n",
       "sep_fav_a                     object\n",
       "Class                          int64\n",
       "dtype: object"
      ]
     },
     "execution_count": 6,
     "metadata": {},
     "output_type": "execute_result"
    }
   ],
   "source": [
    "df.dtypes"
   ]
  },
  {
   "cell_type": "code",
   "execution_count": 7,
   "metadata": {},
   "outputs": [],
   "source": [
    "# dummify\n",
    "dummified = pd.get_dummies(df_train)"
   ]
  },
  {
   "cell_type": "code",
   "execution_count": 8,
   "metadata": {},
   "outputs": [],
   "source": [
    "dummified_dropped = dummified.drop('Class', axis = 1)\n",
    "features = dummified.drop('Class', axis = 1)"
   ]
  },
  {
   "cell_type": "code",
   "execution_count": 9,
   "metadata": {},
   "outputs": [],
   "source": [
    "outcome = dummified['Class'].values"
   ]
  },
  {
   "cell_type": "code",
   "execution_count": 10,
   "metadata": {},
   "outputs": [],
   "source": [
    "features = dummified.drop('Class', axis = 1)\n",
    "features = features.as_matrix()\n"
   ]
  },
  {
   "cell_type": "code",
   "execution_count": 11,
   "metadata": {},
   "outputs": [],
   "source": [
    "from sklearn.feature_selection import RFE\n",
    "from sklearn.linear_model import LogisticRegression\n",
    "from sklearn.preprocessing import StandardScaler\n",
    "logreg = LogisticRegression()\n",
    "\n",
    "scaler = StandardScaler()"
   ]
  },
  {
   "cell_type": "code",
   "execution_count": 12,
   "metadata": {},
   "outputs": [
    {
     "name": "stdout",
     "output_type": "stream",
     "text": [
      "[False False False False False False False False False False False  True\n",
      "  True False  True  True  True  True  True  True False False  True  True\n",
      "  True  True  True  True]\n",
      "[12 11  8 10 15  9 14 13  7  6  5  1  1  2  1  1  1  1  1  1  3  4  1  1\n",
      "  1  1  1  1]\n"
     ]
    }
   ],
   "source": [
    "rfe = RFE(logreg)\n",
    "rfe = rfe.fit(features, outcome)\n",
    "print(rfe.support_)\n",
    "print(rfe.ranking_)"
   ]
  },
  {
   "cell_type": "code",
   "execution_count": 13,
   "metadata": {},
   "outputs": [
    {
     "data": {
      "text/plain": [
       "(1600, 28)"
      ]
     },
     "execution_count": 13,
     "metadata": {},
     "output_type": "execute_result"
    }
   ],
   "source": [
    "np.shape(features)"
   ]
  },
  {
   "cell_type": "code",
   "execution_count": 14,
   "metadata": {},
   "outputs": [
    {
     "name": "stdout",
     "output_type": "stream",
     "text": [
      "28\n"
     ]
    }
   ],
   "source": [
    "print(len(rfe.support_))"
   ]
  },
  {
   "cell_type": "code",
   "execution_count": 15,
   "metadata": {},
   "outputs": [
    {
     "data": {
      "text/plain": [
       "array(['aug_user_type_Other', 'sep_user_type_2G', 'sep_user_type_Other',\n",
       "       'aug_fav_a_0', 'aug_fav_a_mobilink', 'aug_fav_a_ptcl',\n",
       "       'aug_fav_a_telenor', 'aug_fav_a_ufone', 'sep_fav_a_mobilink',\n",
       "       'sep_fav_a_ptcl', 'sep_fav_a_telenor', 'sep_fav_a_ufone',\n",
       "       'sep_fav_a_warid', 'sep_fav_a_zong'], dtype=object)"
      ]
     },
     "execution_count": 15,
     "metadata": {},
     "output_type": "execute_result"
    }
   ],
   "source": [
    "dummified_dropped.columns.values[rfe.support_]"
   ]
  },
  {
   "cell_type": "code",
   "execution_count": 16,
   "metadata": {},
   "outputs": [],
   "source": [
    "sel_cols = list(dummified_dropped.columns.values[rfe.support_])\n",
    "# selected = dummified[['Aggregate_complaint_count', 'aug_user_type_2G', 'aug_user_type_3G', 'aug_user_type_Other', 'sep_user_type_2G', 'sep_user_type_3G', 'sep_user_type_Other', 'aug_fav_a_0', 'aug_fav_a_mobilink', 'aug_fav_a_ptcl', 'aug_fav_a_telenor', 'aug_fav_a_ufone', 'aug_fav_a_warid', 'aug_fav_a_zong', 'sep_fav_a_mobilink', 'sep_fav_a_ptcl', 'sep_fav_a_telenor', 'sep_fav_a_ufone', 'sep_fav_a_warid', 'sep_fav_a_zong']]\n",
    "selected = dummified[sel_cols]\n",
    "features = selected.as_matrix()\n",
    "# features"
   ]
  },
  {
   "cell_type": "code",
   "execution_count": 17,
   "metadata": {},
   "outputs": [
    {
     "name": "stderr",
     "output_type": "stream",
     "text": [
      "/Users/lisa/.pyenv/versions/py_360/lib/python3.6/site-packages/sklearn/utils/validation.py:444: DataConversionWarning: Data with input dtype uint8 was converted to float64 by StandardScaler.\n",
      "  warnings.warn(msg, DataConversionWarning)\n"
     ]
    },
    {
     "data": {
      "text/plain": [
       "GradientBoostingClassifier(criterion='friedman_mse', init=None,\n",
       "              learning_rate=0.1, loss='deviance', max_depth=3,\n",
       "              max_features=None, max_leaf_nodes=None,\n",
       "              min_impurity_decrease=0.0, min_impurity_split=None,\n",
       "              min_samples_leaf=1, min_samples_split=2,\n",
       "              min_weight_fraction_leaf=0.0, n_estimators=100,\n",
       "              presort='auto', random_state=None, subsample=1.0, verbose=0,\n",
       "              warm_start=False)"
      ]
     },
     "execution_count": 17,
     "metadata": {},
     "output_type": "execute_result"
    }
   ],
   "source": [
    "log_model = logreg.fit(features, outcome)\n",
    "clf = RandomForestClassifier(n_jobs=2, random_state=0)\n",
    "clf.fit(features,outcome)\n",
    "\n",
    "decision_tree = DecisionTreeClassifier()\n",
    "decision_tree.fit(features,outcome)\n",
    "\n",
    "svc = SVC()\n",
    "scaler.fit(features)\n",
    "svc.fit(scaler.transform(features),outcome)\n",
    "\n",
    "gb_classifier = GradientBoostingClassifier()\n",
    "gb_classifier.fit(features, outcome)"
   ]
  },
  {
   "cell_type": "code",
   "execution_count": 18,
   "metadata": {},
   "outputs": [],
   "source": [
    "# let's test"
   ]
  },
  {
   "cell_type": "code",
   "execution_count": 19,
   "metadata": {
    "collapsed": true
   },
   "outputs": [],
   "source": [
    "dummified = pd.get_dummies(df_test)\n",
    "dummified_dropped = dummified.drop('Class', axis = 1)\n",
    "features = dummified.drop('Class', axis = 1)\n",
    "outcome = dummified['Class'].values\n",
    "selected = dummified[sel_cols]\n",
    "features = selected.as_matrix()\n",
    "\n"
   ]
  },
  {
   "cell_type": "code",
   "execution_count": 20,
   "metadata": {},
   "outputs": [
    {
     "name": "stderr",
     "output_type": "stream",
     "text": [
      "/Users/lisa/.pyenv/versions/py_360/lib/python3.6/site-packages/sklearn/utils/validation.py:444: DataConversionWarning: Data with input dtype uint8 was converted to float64 by StandardScaler.\n",
      "  warnings.warn(msg, DataConversionWarning)\n"
     ]
    }
   ],
   "source": [
    "log_predictions = logreg.predict(features)\n",
    "random_forest_predictions = clf.predict(features)\n",
    "decision_tree_predictions = decision_tree.predict(features)\n",
    "svc_predictions = svc.predict(scaler.transform(features))\n",
    "gb_predictions = gb_classifier.predict(features)"
   ]
  },
  {
   "cell_type": "code",
   "execution_count": 21,
   "metadata": {},
   "outputs": [
    {
     "name": "stdout",
     "output_type": "stream",
     "text": [
      "logistic regression 0.6725\n",
      "random forest 0.6675\n",
      "decision tree 0.67\n",
      "SVM 0.6725\n",
      "gradient boost 0.6725\n"
     ]
    }
   ],
   "source": [
    "print('logistic regression', len(outcome[outcome == log_predictions])/len(outcome))\n",
    "print('random forest', len(outcome[outcome == random_forest_predictions])/len(outcome))\n",
    "print('decision tree', len(outcome[outcome == decision_tree_predictions])/len(outcome))\n",
    "print('SVM', len(outcome[outcome == svc_predictions])/len(outcome)) \n",
    "print('gradient boost', len(outcome[outcome == gb_predictions])/len(outcome))"
   ]
  },
  {
   "cell_type": "code",
   "execution_count": 22,
   "metadata": {},
   "outputs": [
    {
     "data": {
      "text/plain": [
       "(array([54.,  0.,  0.,  0.,  0.,  0.,  0.,  0.,  0., 79.]),\n",
       " array([0. , 0.1, 0.2, 0.3, 0.4, 0.5, 0.6, 0.7, 0.8, 0.9, 1. ]),\n",
       " <a list of 10 Patch objects>)"
      ]
     },
     "execution_count": 22,
     "metadata": {},
     "output_type": "execute_result"
    },
    {
     "data": {
      "image/png": "[encoded data removed]",
      "text/plain": [
       "<matplotlib.figure.Figure at 0x10257d908>"
      ]
     },
     "metadata": {},
     "output_type": "display_data"
    }
   ],
   "source": [
    "plt.hist(outcome[outcome != random_forest_predictions])\n",
    "#We correctly predicted 200 churns"
   ]
  },
  {
   "cell_type": "code",
   "execution_count": 23,
   "metadata": {},
   "outputs": [
    {
     "data": {
      "text/plain": [
       "(array([54.,  0.,  0.,  0.,  0.,  0.,  0.,  0.,  0., 79.]),\n",
       " array([0. , 0.1, 0.2, 0.3, 0.4, 0.5, 0.6, 0.7, 0.8, 0.9, 1. ]),\n",
       " <a list of 10 Patch objects>)"
      ]
     },
     "execution_count": 23,
     "metadata": {},
     "output_type": "execute_result"
    },
    {
     "data": {
      "image/png": "[encoded data removed]",
      "text/plain": [
       "<matplotlib.figure.Figure at 0x108252240>"
      ]
     },
     "metadata": {},
     "output_type": "display_data"
    }
   ],
   "source": [
    "plt.hist(outcome[outcome != log_predictions])\n",
    "plt.hist(outcome[outcome != random_forest_predictions])"
   ]
  },
  {
   "cell_type": "code",
   "execution_count": null,
   "metadata": {
    "collapsed": true
   },
   "outputs": [],
   "source": []
  }
 ],
 "metadata": {
  "kernelspec": {
   "display_name": "Python 3 Virtual Environment:",
   "language": "python",
   "name": "python_3"
  },
  "language_info": {
   "codemirror_mode": {
    "name": "ipython",
    "version": 3
   },
   "file_extension": ".py",
   "mimetype": "text/x-python",
   "name": "python",
   "nbconvert_exporter": "python",
   "pygments_lexer": "ipython3",
   "version": "3.6.0"
  }
 },
 "nbformat": 4,
 "nbformat_minor": 2
}
